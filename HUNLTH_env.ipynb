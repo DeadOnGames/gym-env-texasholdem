{
  "nbformat": 4,
  "nbformat_minor": 0,
  "metadata": {
    "colab": {
      "provenance": [],
      "authorship_tag": "ABX9TyPskbicVPDUNXOdk6doWYCF",
      "include_colab_link": true
    },
    "kernelspec": {
      "name": "python3",
      "display_name": "Python 3"
    },
    "language_info": {
      "name": "python"
    }
  },
  "cells": [
    {
      "cell_type": "markdown",
      "metadata": {
        "id": "view-in-github",
        "colab_type": "text"
      },
      "source": [
        "<a href=\"https://colab.research.google.com/github/DeadOnGames/gym-env-texasholdem/blob/main/HUNLTH_env.ipynb\" target=\"_parent\"><img src=\"https://colab.research.google.com/assets/colab-badge.svg\" alt=\"Open In Colab\"/></a>"
      ]
    },
    {
      "cell_type": "code",
      "execution_count": 2,
      "metadata": {
        "id": "Tq4dCDAmkfDN"
      },
      "outputs": [],
      "source": [
        "from enum import Enum\n",
        "import random\n",
        "import gym\n",
        "from gym import spaces\n",
        "from gym.spaces import Box, Discrete\n",
        "from gym import Env\n",
        "import numpy as np"
      ]
    },
    {
      "cell_type": "code",
      "source": [
        "class Actions(Enum):\n",
        "  FOLD = 0\n",
        "  CALL = 1\n",
        "  RAISE = 2\n",
        "  CHECK = 3"
      ],
      "metadata": {
        "id": "J8xG2haUl8ut"
      },
      "execution_count": null,
      "outputs": []
    },
    {
      "cell_type": "code",
      "source": [
        "class StageEnum(Enum):\n",
        "  PREFLOP = 0 \n",
        "  FLOP = 1\n",
        "  TURN = 2\n",
        "  RIVER = 3\n",
        "  SHOWDOWN = 4"
      ],
      "metadata": {
        "id": "C92e4R6dmPqP"
      },
      "execution_count": null,
      "outputs": []
    },
    {
      "cell_type": "code",
      "source": [
        "#1D array - less computationally demanding to iterate\n",
        "deck = []\n",
        "\n",
        "#Symbols for cards\n",
        "clubs = \"\\u2663\"\n",
        "hearts = \"\\u2665\"\n",
        "diamonds = \"\\u2666\"\n",
        "spades = \"\\u2660\"\n",
        "\n",
        "PIPS = (\"A\",\"2\",\"3\",\"4\",\"5\",\"6\",\"7\",\"8\",\"9\",\"10\",\"J\",\"Q\",\"K\")\n",
        "SUITS = (clubs, spades, diamonds, hearts)\n",
        "\n",
        "def createDeck():\n",
        "    for suit in SUITS:\n",
        "        for pip in PIPS:\n",
        "            card = (suit,pip)\n",
        "            deck.append(card)\n",
        "\n",
        "def takeCardFromDeck():\n",
        "    card = random.choice(deck)\n",
        "    deck.remove(card)\n",
        "    return card\n",
        "\n",
        "def dealHand():\n",
        "  hand = []\n",
        "  for i in range(2):\n",
        "    hand.append(takeCardFromDeck())\n",
        "  return hand\n",
        "\n",
        "def dealCards(numCards):\n",
        "  for i in range(numCards):\n",
        "    pip, suit = takeCardFromDeck()\n",
        "    print(suit + pip, end = \" \")\n",
        "    print()\n",
        "\n",
        "def dealEntireDeck():\n",
        "  for i in range(13):\n",
        "      for j in range(4):\n",
        "          pip,suit = takeCardFromDeck()\n",
        "          print(suit + pip, end = \" \")\n",
        "      print()\n",
        "\n",
        "#createDeck()\n"
      ],
      "metadata": {
        "id": "F-9Js0SaUO5o"
      },
      "execution_count": 19,
      "outputs": []
    },
    {
      "cell_type": "code",
      "source": [
        "class HUNLTH_env(gym.Env):\n",
        "  \"\"\"A Heads-Up No Limit Texas Hold'em environment for OpenAI gym\"\"\"\n",
        "\n",
        "  def __init__(self):\n",
        "\n",
        "    #define environment - currently takes in discrete actions\n",
        "    createDeck()\n",
        "    hand = dealHand()\n",
        "    communityCards = dealCards(3)\n",
        "\n",
        "    moneyPlayer1 = 100\n",
        "    moneyPlayer2 = 100\n",
        "    pot = 0 \n",
        "    \n",
        "    # Define action space\n",
        "    self.action_space = spaces.Discrete(len(Actions))\n",
        "\n",
        "    #Define observation space\n",
        "    #Tuple of:\n",
        "    # hand \n",
        "    # community cards \n",
        "    # money of player 1\n",
        "    # money of player 2\n",
        "    # money in the pot\n",
        "    self.observation_space = spaces.Box()\n",
        "\n",
        "    #Current state - set to random\n",
        "    self.state = ...\n",
        "\n",
        "    #no. of rounds\n",
        "    self.rounds = 20\n",
        "\n",
        "    #reward collected \n",
        "    self.collected_reward = 0\n",
        "\n",
        "  def step(self, action):\n",
        "    # Execute one time step within the environment\n",
        "    ...\n",
        "    \n",
        "  def render(self):\n",
        "    # Render the environment to the screen\n",
        "    ...\n",
        "\n",
        "  def reset(self):\n",
        "    # Reset the state of the environment to an initial state\n",
        "    \n",
        "    ..."
      ],
      "metadata": {
        "id": "Ewo3ZTYhkk29"
      },
      "execution_count": null,
      "outputs": []
    }
  ]
}