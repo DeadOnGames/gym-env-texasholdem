{
  "nbformat": 4,
  "nbformat_minor": 0,
  "metadata": {
    "colab": {
      "provenance": [],
      "authorship_tag": "ABX9TyOgKKl1wRkAVrd3QmC6mlBl",
      "include_colab_link": true
    },
    "kernelspec": {
      "name": "python3",
      "display_name": "Python 3"
    },
    "language_info": {
      "name": "python"
    }
  },
  "cells": [
    {
      "cell_type": "markdown",
      "metadata": {
        "id": "view-in-github",
        "colab_type": "text"
      },
      "source": [
        "<a href=\"https://colab.research.google.com/github/DeadOnGames/gym-env-texasholdem/blob/main/HUNLTH_env.ipynb\" target=\"_parent\"><img src=\"https://colab.research.google.com/assets/colab-badge.svg\" alt=\"Open In Colab\"/></a>"
      ]
    },
    {
      "cell_type": "code",
      "execution_count": 2,
      "metadata": {
        "id": "Tq4dCDAmkfDN"
      },
      "outputs": [],
      "source": [
        "from enum import Enum\n",
        "import random\n",
        "import gym\n",
        "from gym import spaces\n",
        "from gym.spaces import Box, Discrete\n",
        "from gym import Env\n",
        "import numpy as np"
      ]
    },
    {
      "cell_type": "code",
      "source": [
        "class Actions(Enum):\n",
        "  FOLD = 0\n",
        "  CALL = 1\n",
        "  RAISE = 2\n",
        "  CHECK = 3"
      ],
      "metadata": {
        "id": "J8xG2haUl8ut"
      },
      "execution_count": null,
      "outputs": []
    },
    {
      "cell_type": "code",
      "source": [
        "class StageEnum(Enum):\n",
        "  PREFLOP = 0 \n",
        "  FLOP = 1\n",
        "  TURN = 2\n",
        "  RIVER = 3\n",
        "  SHOWDOWN = 4"
      ],
      "metadata": {
        "id": "C92e4R6dmPqP"
      },
      "execution_count": null,
      "outputs": []
    },
    {
      "cell_type": "code",
      "source": [
        "#1D array - less computationally demanding to iterate\n",
        "deck = []\n",
        "\n",
        "#Symbols for cards\n",
        "clubs = \"\\u2663\"\n",
        "hearts = \"\\u2665\"\n",
        "diamonds = \"\\u2666\"\n",
        "spades = \"\\u2660\"\n",
        "\n",
        "PIPS = (\"A\",\"2\",\"3\",\"4\",\"5\",\"6\",\"7\",\"8\",\"9\",\"10\",\"J\",\"Q\",\"K\")\n",
        "SUITS = (clubs, spades, diamonds, hearts)\n",
        "\n",
        "def createDeck():\n",
        "    for suit in SUITS:\n",
        "        for pip in PIPS:\n",
        "            card = (suit,pip)\n",
        "            deck.append(card)\n",
        "\n",
        "def takeCardFromDeck():\n",
        "    card = random.choice(deck)\n",
        "    deck.remove(card)\n",
        "    return card\n",
        "\n",
        "def dealHand():\n",
        "  hand = []\n",
        "  for i in range(2):\n",
        "    hand.append(takeCardFromDeck())\n",
        "  return hand\n",
        "\n",
        "def dealCards(numCards):\n",
        "  for i in range(numCards):\n",
        "    pip, suit = takeCardFromDeck()\n",
        "    print(suit + pip, end = \" \")\n",
        "    print()\n",
        "\n",
        "def dealEntireDeck():\n",
        "  for i in range(13):\n",
        "      for j in range(4):\n",
        "          pip,suit = takeCardFromDeck()\n",
        "          print(suit + pip, end = \" \")\n",
        "      print()\n",
        "\n",
        "createDeck()\n",
        "dealEntireDeck()\n"
      ],
      "metadata": {
        "id": "F-9Js0SaUO5o",
        "colab": {
          "base_uri": "https://localhost:8080/"
        },
        "outputId": "8a0b5962-6c72-432f-993d-9c3535d0d4ed"
      },
      "execution_count": 3,
      "outputs": [
        {
          "output_type": "stream",
          "name": "stdout",
          "text": [
            "K♥ 10♥ 6♥ 2♦ \n",
            "3♠ Q♠ 10♣ 7♠ \n",
            "9♠ 6♠ 4♠ 4♦ \n",
            "Q♥ 7♥ 8♦ 8♣ \n",
            "Q♣ J♣ 7♣ K♠ \n",
            "2♣ 7♦ K♦ 4♥ \n",
            "5♣ 3♥ 10♦ 6♦ \n",
            "3♦ 6♣ 5♠ 5♥ \n",
            "2♠ J♦ 9♣ 9♦ \n",
            "A♠ Q♦ 5♦ 3♣ \n",
            "2♥ 10♠ A♦ J♠ \n",
            "J♥ 8♠ A♥ 9♥ \n",
            "K♣ A♣ 4♣ 8♥ \n"
          ]
        }
      ]
    },
    {
      "cell_type": "code",
      "source": [
        "class HUNLTH_env(gym.Env):\n",
        "  \"\"\"A Heads-Up No Limit Texas Hold'em environment for OpenAI gym\"\"\"\n",
        "\n",
        "  def __init__(self):\n",
        "\n",
        "    #define environment - currently takes in discrete actions\n",
        "    createDeck()  #Create a new deck of cards at the start of the episode\n",
        "    handState = [None] * 2 #Slots for cards in hand\n",
        "    communityCardsState = [None] * 5  #Slots for cards in community pile\n",
        "    #hand = dealHand()\n",
        "    #communityCards = dealCards(3)\n",
        "\n",
        "    moneyPlayer1 = 10000\n",
        "    moneyPlayer2 = 10000\n",
        "    pot = 0 \n",
        "    \n",
        "    # Define action space\n",
        "    self.action_space = spaces.Discrete(len(Actions))\n",
        "\n",
        "    #Define observation space - states are 'slots' not cards\n",
        "    #Tuple of:\n",
        "    # hand \n",
        "    # community cards \n",
        "    # money of player 1\n",
        "    # money of player 2\n",
        "    # money in the pot\n",
        "    self.observation_space = spaces.Tuple(spaces.Discrete(2),\n",
        "                                          spaces.Discrete(5),\n",
        "                                          spaces.Box(0,20000,shape=(1,)),\n",
        "                                          spaces.Box(0,20000,shape=(1,)),\n",
        "                                          spaces.Box(0,40000,shape=(1,)))\n",
        "\n",
        "    #Current state\n",
        "    #At the beginning all card slots will be null and so will the pot\n",
        "    self.state = spaces.Tuple(handState, communityCards, moneyPlayer1, moneyPlayer2, pot)\n",
        "\n",
        "    #no. of rounds\n",
        "    self.rounds = 20\n",
        "\n",
        "    #reward collected \n",
        "    self.collected_reward = 0\n",
        "\n",
        "  def step(self, action):\n",
        "    # Execute one time step within the environment\n",
        "    ...\n",
        "    \n",
        "  def render(self):\n",
        "    # Render the environment to the screen\n",
        "    ...\n",
        "\n",
        "  def reset(self):\n",
        "    # Reset the state of the environment to an initial state\n",
        "    \n",
        "    ..."
      ],
      "metadata": {
        "id": "Ewo3ZTYhkk29"
      },
      "execution_count": null,
      "outputs": []
    }
  ]
}